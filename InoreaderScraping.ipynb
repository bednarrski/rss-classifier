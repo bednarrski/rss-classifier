{
 "cells": [
  {
   "cell_type": "code",
   "execution_count": null,
   "metadata": {},
   "outputs": [],
   "source": [
    "from api import inoreader_api"
   ]
  },
  {
   "cell_type": "code",
   "execution_count": null,
   "metadata": {},
   "outputs": [],
   "source": [
    "test = inoreader_api.inoreader_request('user-info')\n",
    "print(test)"
   ]
  },
  {
   "cell_type": "code",
   "execution_count": null,
   "metadata": {},
   "outputs": [],
   "source": [
    "test = inoreader_api.inoreader_request('subscription/list')\n",
    "test['subscriptions']"
   ]
  },
  {
   "cell_type": "code",
   "execution_count": null,
   "metadata": {},
   "outputs": [],
   "source": [
    "\n",
    "feed = 'user/-/label/arXiv'\n",
    "mods = '?n=300'\n",
    "\n",
    "test = inoreader_api.inoreader_request(\n",
    "    'stream/contents/'+feed+mods)\n",
    "#(test['items'])[0]\n",
    "print(test['continuation'])\n",
    "print(len(test['items']))\n",
    "for i in range(len(test['items'])):\n",
    "    print(((test['items'])[i])['title'])"
   ]
  },
  {
   "cell_type": "code",
   "execution_count": null,
   "metadata": {},
   "outputs": [],
   "source": [
    "test['items']"
   ]
  },
  {
   "cell_type": "code",
   "execution_count": null,
   "metadata": {},
   "outputs": [],
   "source": [
    "import sys\n",
    "\n",
    "start_time = 1508112001\n",
    "feed = 'user/-/label/arXiv'\n",
    "\n",
    "current_time = 1918252800 # some data in year 2030\n",
    "all_articles = []\n",
    "mods = ''\n",
    "while current_time > start_time:\n",
    "    answer = inoreader_api.inoreader_request('stream/contents/'+feed+mods)\n",
    "    batch = answer['items']\n",
    "    mods = '?c=' + answer['continuation']\n",
    "    current_time = (batch[0])['published']\n",
    "    all_articles=all_articles+batch\n",
    "    \n",
    "print(len(all_articles))"
   ]
  },
  {
   "cell_type": "code",
   "execution_count": null,
   "metadata": {},
   "outputs": [],
   "source": [
    "import json\n",
    "file = 'articles_raw.json'\n",
    "\n",
    "json_content = {'all_articles' : all_articles}\n",
    "json_string = json.dumps(json_content)\n",
    "f = open(file, 'w')\n",
    "f.write(json_string)\n",
    "f.close()\n"
   ]
  },
  {
   "cell_type": "code",
   "execution_count": null,
   "metadata": {},
   "outputs": [],
   "source": []
  }
 ],
 "metadata": {
  "kernelspec": {
   "display_name": "Python 3",
   "language": "python",
   "name": "python3"
  },
  "language_info": {
   "codemirror_mode": {
    "name": "ipython",
    "version": 3
   },
   "file_extension": ".py",
   "mimetype": "text/x-python",
   "name": "python",
   "nbconvert_exporter": "python",
   "pygments_lexer": "ipython3",
   "version": "3.6.1"
  }
 },
 "nbformat": 4,
 "nbformat_minor": 2
}
