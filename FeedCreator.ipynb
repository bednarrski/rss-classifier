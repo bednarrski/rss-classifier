{
 "cells": [
  {
   "cell_type": "code",
   "execution_count": 1,
   "metadata": {},
   "outputs": [],
   "source": [
    "# !/usr/bin/env python\n",
    "# -*- coding: utf-8 -*-\n",
    "\n",
    "import requests\n",
    "import re\n",
    "import pandas as pd\n",
    "from models.RSS_classifier import classify"
   ]
  },
  {
   "cell_type": "code",
   "execution_count": 2,
   "metadata": {},
   "outputs": [],
   "source": [
    "def get_articles_and_xml(url):\n",
    "    page = requests.get(url)\n",
    "\n",
    "    pattern = '<item rdf:about=.*?</item>'\n",
    "    article_list = re.findall(pattern, page.text, flags=(re.MULTILINE | re.DOTALL))\n",
    "    return article_list, page.text"
   ]
  },
  {
   "cell_type": "code",
   "execution_count": 3,
   "metadata": {},
   "outputs": [],
   "source": [
    "def extract_item_info(xml_string):\n",
    "    item_dict = {}\n",
    "    item_dict['url'] = re.findall('http://arxiv.org/abs/\\d{1,8}\\.\\d{1,8}', xml_string, flags=(re.MULTILINE | re.DOTALL))[0]\n",
    "    item_dict['title'] = (re.findall('<title>(.*?)[(]arXiv:', xml_string, flags=(re.MULTILINE | re.DOTALL))[0]).strip()\n",
    "    item_dict['abstract'] = re.findall('<description rdf:.*?>(.*?)</description>', xml_string, flags=(re.MULTILINE | re.DOTALL))[0]\n",
    "    item_dict['authors'] = re.findall('<dc:creator>(.*?)</dc:creator>', xml_string, flags=(re.MULTILINE | re.DOTALL))[0]\n",
    "    item_dict['authors'] = re.findall('\\&quot;\\&gt;(.*?)\\&lt;/a\\&gt;', item_dict['authors'], flags=(re.MULTILINE | re.DOTALL))\n",
    "    item_dict['authors'] = ', '.join(item_dict['authors'])\n",
    "    item_dict['full_text'] = xml_string\n",
    "    return item_dict"
   ]
  },
  {
   "cell_type": "code",
   "execution_count": 4,
   "metadata": {},
   "outputs": [],
   "source": [
    "def get_feed_parts(xml_string):\n",
    "    beginning = re.findall('.*?<rdf:Seq>\\n', xml_string, flags=(re.MULTILINE | re.DOTALL))[0]\n",
    "    middle = re.findall('</rdf:Seq>.*?</image>', xml_string, flags=(re.MULTILINE | re.DOTALL))[0]\n",
    "    end = '</rdf:RDF>'\n",
    "    \n",
    "    beginning_good = re.sub('<title>(.*?)</title>', '<title>Good papers from arXiv</title>', beginning, flags=(re.MULTILINE | re.DOTALL))\n",
    "    beginning_bad = re.sub('<title>(.*?)</title>', '<title>Boring papers from arXiv</title>', beginning, flags=(re.MULTILINE | re.DOTALL))\n",
    "    \n",
    "    beginning_good = re.sub('<description(.*?)>(.*?)</description>', '<description\\g<1>>The Good Papers on ML, AI and Statistics</description>', beginning_good, flags=(re.MULTILINE | re.DOTALL))\n",
    "    beginning_bad = re.sub('<description(.*?)>(.*?)</description>', '<description\\g<1>>The Bad Papers on ML, AI and Statistics</description>', beginning_bad, flags=(re.MULTILINE | re.DOTALL))\n",
    "    \n",
    "    return beginning_good, beginning_bad, middle, end"
   ]
  },
  {
   "cell_type": "code",
   "execution_count": 5,
   "metadata": {},
   "outputs": [],
   "source": [
    "def build_feeds(xml_string, articles_info_classified_pd):\n",
    "    beginning_good, beginning_bad, middle, end = get_feed_parts(xml_string)\n",
    "    \n",
    "    \n",
    "    items_good = []\n",
    "    items_bad = []\n",
    "    for i in range(len(articles_info_classified_pd)):\n",
    "        item = '<rdf:li rdf:resource=\"' + articles_info_classified_pd['url'].iloc[i] + '\"/>'\n",
    "        if articles_info_classified_pd['class'].iloc[i] == True:\n",
    "            items_good.append(item)\n",
    "        else:\n",
    "            items_bad.append(item)\n",
    "            \n",
    "    items_good = '\\n'.join(items_good)\n",
    "    items_bad = '\\n'.join(items_bad)\n",
    "    \n",
    "    abstracts_good = []\n",
    "    abstracts_bad = []\n",
    "    for i in range(len(articles_info_classified_pd)):\n",
    "        item = articles_info_classified_pd['full_text'].iloc[i]\n",
    "        if articles_info_classified_pd['class'].iloc[i] == True:\n",
    "            abstracts_good.append(item)\n",
    "        else:\n",
    "            abstracts_bad.append(item)\n",
    "            \n",
    "    abstracts_good = '\\n'.join(abstracts_good)\n",
    "    abstracts_bad = '\\n'.join(abstracts_bad)\n",
    "    \n",
    "    good_text = beginning_good + items_good + middle + abstracts_good + end\n",
    "    bad_text = beginning_bad + items_bad + middle + abstracts_bad + end\n",
    "    \n",
    "    return good_text, bad_text"
   ]
  },
  {
   "cell_type": "code",
   "execution_count": 6,
   "metadata": {},
   "outputs": [
    {
     "data": {
      "text/plain": [
       "60"
      ]
     },
     "execution_count": 6,
     "metadata": {},
     "output_type": "execute_result"
    }
   ],
   "source": [
    "urls = [\n",
    "    'http://arxiv.org/rss/cs.NE',\n",
    "    'http://arxiv.org/rss/cs.AI',\n",
    "    'http://arxiv.org/rss/stat.ML'\n",
    "]\n",
    "good_feed_name = 'papers_good.xml'\n",
    "bad_feed_name = 'papers_bad.xml'\n",
    "\n",
    "articles_info_classified_list = []\n",
    "for url in urls:\n",
    "    article_list, xml_string = get_articles_and_xml(url)\n",
    "\n",
    "    articles_info_list = []\n",
    "    for article in article_list:\n",
    "        info = extract_item_info(article)\n",
    "        articles_info_list.append(info)\n",
    "\n",
    "    articles_info_pd = pd.DataFrame(articles_info_list)\n",
    "    articles_info_classified_list.append(classify(articles_info_pd))\n",
    "    #articles_info_classified_pd = classify(articles_info_pd)\n",
    "\n",
    "articles_info_classified_pd = pd.concat([articles_info_classified_list[0], \n",
    "                                              articles_info_classified_list[1],\n",
    "                                              articles_info_classified_list[2]])\n",
    "\n",
    "articles_info_classified_pd = articles_info_classified_pd.drop_duplicates(subset=['url'])\n",
    "len(articles_info_classified_pd)"
   ]
  },
  {
   "cell_type": "code",
   "execution_count": 7,
   "metadata": {},
   "outputs": [],
   "source": [
    "good_text, bad_text = build_feeds(xml_string, articles_info_classified_pd)\n",
    "\n",
    "with open(good_feed_name, 'w') as good:\n",
    "    good.write(good_text)\n",
    "    \n",
    "with open(bad_feed_name, 'w') as bad:\n",
    "    bad.write(bad_text)"
   ]
  },
  {
   "cell_type": "code",
   "execution_count": null,
   "metadata": {},
   "outputs": [],
   "source": []
  }
 ],
 "metadata": {
  "kernelspec": {
   "display_name": "Python 3",
   "language": "python",
   "name": "python3"
  },
  "language_info": {
   "codemirror_mode": {
    "name": "ipython",
    "version": 3
   },
   "file_extension": ".py",
   "mimetype": "text/x-python",
   "name": "python",
   "nbconvert_exporter": "python",
   "pygments_lexer": "ipython3",
   "version": "3.6.1"
  }
 },
 "nbformat": 4,
 "nbformat_minor": 2
}
